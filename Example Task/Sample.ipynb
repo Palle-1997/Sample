{
 "cells": [
  {
   "cell_type": "markdown",
   "id": "59087c2d-25ff-42ea-bfbe-fb073eb87c4b",
   "metadata": {},
   "source": [
    "#First example"
   ]
  },
  {
   "cell_type": "code",
   "execution_count": null,
   "id": "9c9e8dc6-a8e8-4e5f-bcad-7dd8f619b308",
   "metadata": {},
   "outputs": [],
   "source": [
    "print('Hello, World!')\n"
   ]
  },
  {
   "cell_type": "code",
   "execution_count": null,
   "id": "e71f2c5b-c9fd-44c6-ae44-845f78298d7e",
   "metadata": {},
   "outputs": [],
   "source": [
    "import pandas as pd"
   ]
  },
  {
   "cell_type": "code",
   "execution_count": null,
   "id": "848f3837-6741-48fc-9b9d-fd779f6b5038",
   "metadata": {},
   "outputs": [],
   "source": [
    "print(pd)"
   ]
  },
  {
   "cell_type": "code",
   "execution_count": 17,
   "id": "0e90c33c-ebd4-4efb-8a8e-5b04f76aa503",
   "metadata": {
    "scrolled": true
   },
   "outputs": [
    {
     "name": "stdout",
     "output_type": "stream",
     "text": [
      "JSON Output:\n",
      " {\n",
      "  \"employees\": [\n",
      "    {\n",
      "      \"id\": 1,\n",
      "      \"name\": \"John Doe\",\n",
      "      \"salary\": 60000,\n",
      "      \"department_name\": \"IT\"\n",
      "    },\n",
      "    {\n",
      "      \"id\": 2,\n",
      "      \"name\": \"Jane Smith\",\n",
      "      \"salary\": 75000,\n",
      "      \"department_name\": \"HR\"\n",
      "    },\n",
      "    {\n",
      "      \"id\": 3,\n",
      "      \"name\": \"Sam Brown\",\n",
      "      \"salary\": 50000,\n",
      "      \"department_name\": \"Finance\"\n",
      "    }\n",
      "  ]\n",
      "}\n",
      "\n",
      "XML Output:\n",
      " <employees><employee><id>1</id><name>John Doe</name><salary>60000</salary><department_name>IT</department_name></employee><employee><id>2</id><name>Jane Smith</name><salary>75000</salary><department_name>HR</department_name></employee><employee><id>3</id><name>Sam Brown</name><salary>50000</salary><department_name>Finance</department_name></employee></employees>\n"
     ]
    }
   ],
   "source": [
    "import json\n",
    "import xml.etree.ElementTree as ET\n",
    "import sqlite3\n",
    "\n",
    "# Create a SQLite in-memory database and sample data\n",
    "conn = sqlite3.connect(\":memory:\")\n",
    "cursor = conn.cursor()\n",
    "\n",
    "# Create tables\n",
    "cursor.executescript(\"\"\"\n",
    "CREATE TABLE employees (id INTEGER, name TEXT, salary INTEGER, department_id INTEGER);\n",
    "CREATE TABLE departments (id INTEGER, department_name TEXT);\n",
    "INSERT INTO departments VALUES (1, 'IT'), (2, 'HR'), (3, 'Finance');\n",
    "INSERT INTO employees VALUES (1, 'John Doe', 60000, 1), (2, 'Jane Smith', 75000, 2), (3, 'Sam Brown', 50000, 3);\n",
    "\"\"\")\n",
    "\n",
    "# SQL JOIN query\n",
    "query = \"\"\"\n",
    "SELECT e.id, e.name, e.salary, d.department_name  \n",
    "FROM employees e  \n",
    "JOIN departments d ON e.department_id = d.id;\n",
    "\"\"\"\n",
    "cursor.execute(query)\n",
    "rows = cursor.fetchall()\n",
    "\n",
    "# Convert to JSON\n",
    "json_data = {\"employees\": [{\"id\": row[0], \"name\": row[1], \"salary\": row[2], \"department_name\": row[3]} for row in rows]}\n",
    "json_output = json.dumps(json_data, indent=2)\n",
    "\n",
    "# Convert to XML\n",
    "root = ET.Element(\"employees\")\n",
    "for row in rows:\n",
    "    emp = ET.SubElement(root, \"employee\")\n",
    "    ET.SubElement(emp, \"id\").text = str(row[0])\n",
    "    ET.SubElement(emp, \"name\").text = row[1]\n",
    "    ET.SubElement(emp, \"salary\").text = str(row[2])\n",
    "    ET.SubElement(emp, \"department_name\").text = row[3]\n",
    "\n",
    "xml_output = ET.tostring(root, encoding=\"utf-8\").decode()\n",
    "\n",
    "# Print results\n",
    "print(\"JSON Output:\\n\", json_output)\n",
    "print(\"\\nXML Output:\\n\", xml_output)\n",
    "\n",
    "# Close connection\n",
    "conn.close()\n"
   ]
  },
  {
   "cell_type": "code",
   "execution_count": 25,
   "id": "30de568b-b821-4b01-bb1e-133e75dbd7d5",
   "metadata": {},
   "outputs": [
    {
     "name": "stdout",
     "output_type": "stream",
     "text": [
      "📌 JSON Data Loaded:\n",
      "[\n",
      "    {\n",
      "        \"id\": 2,\n",
      "        \"name\": \"Jane Smith\",\n",
      "        \"salary\": 75000\n",
      "    },\n",
      "    {\n",
      "        \"id\": 4,\n",
      "        \"name\": \"Alice Green\",\n",
      "        \"salary\": 80000\n",
      "    },\n",
      "    {\n",
      "        \"id\": 5,\n",
      "        \"name\": \"Bob White\",\n",
      "        \"salary\": 70000\n",
      "    }\n",
      "]\n",
      "\n",
      "📌 Data in Tabular Format:\n",
      "   id         name  salary\n",
      "0   2   Jane Smith   75000\n",
      "1   4  Alice Green   80000\n",
      "2   5    Bob White   70000\n"
     ]
    }
   ],
   "source": [
    "import json\n",
    "import pandas as pd\n",
    "\n",
    "# Load the JSON file\n",
    "json_file_path = r\"C:\\Users\\palla\\OneDrive\\Desktop\\Ventois Project\\Example sql file.json\"\n",
    "\n",
    "# Read JSON data\n",
    "with open(json_file_path, \"r\") as file:\n",
    "    data = json.load(file)\n",
    "\n",
    "# Print JSON data\n",
    "print(\"📌 JSON Data Loaded:\")\n",
    "print(json.dumps(data, indent=4))\n",
    "\n",
    "# Convert to Pandas DataFrame for tabular view\n",
    "df = pd.DataFrame(data)\n",
    "\n",
    "# Display the DataFrame\n",
    "print(\"\\n📌 Data in Tabular Format:\")\n",
    "print(df)\n"
   ]
  },
  {
   "cell_type": "code",
   "execution_count": null,
   "id": "ba990c8b-d4c6-4f23-b95e-89dc801192a8",
   "metadata": {},
   "outputs": [],
   "source": []
  },
  {
   "cell_type": "code",
   "execution_count": null,
   "id": "4735ff7d-ccfa-4b11-974c-ad3317cf1103",
   "metadata": {},
   "outputs": [],
   "source": []
  }
 ],
 "metadata": {
  "kernelspec": {
   "display_name": "Python [conda env:base] *",
   "language": "python",
   "name": "conda-base-py"
  },
  "language_info": {
   "codemirror_mode": {
    "name": "ipython",
    "version": 3
   },
   "file_extension": ".py",
   "mimetype": "text/x-python",
   "name": "python",
   "nbconvert_exporter": "python",
   "pygments_lexer": "ipython3",
   "version": "3.12.7"
  }
 },
 "nbformat": 4,
 "nbformat_minor": 5
}
